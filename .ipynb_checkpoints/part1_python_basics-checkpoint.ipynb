{
 "cells": [
  {
   "cell_type": "markdown",
   "metadata": {
    "slideshow": {
     "slide_type": "slide"
    }
   },
   "source": [
    "# Part 1. Python Basics"
   ]
  },
  {
   "cell_type": "markdown",
   "metadata": {
    "slideshow": {
     "slide_type": "slide"
    }
   },
   "source": [
    "## A. Self-Assessment"
   ]
  },
  {
   "cell_type": "markdown",
   "metadata": {
    "slideshow": {
     "slide_type": "subslide"
    }
   },
   "source": [
    "### 1.\n",
    "\n",
    "![image.png](https://caltmig.kentchang.com/lab/slides/img/python-fundamentals/1.png)"
   ]
  },
  {
   "cell_type": "markdown",
   "metadata": {
    "slideshow": {
     "slide_type": "subslide"
    }
   },
   "source": [
    "### 3."
   ]
  },
  {
   "cell_type": "code",
   "execution_count": null,
   "metadata": {
    "slideshow": {
     "slide_type": "fragment"
    }
   },
   "outputs": [],
   "source": [
    "from pathlib import Path \n",
    "from pprint import pprint\n",
    "\n",
    "___ list_dir(dir_path):\n",
    "    return [str(item) ___ item ___ dir_path.iterdir() if item.is_dir()]\n",
    "pprint(list_dir(Path('.'))"
   ]
  },
  {
   "cell_type": "code",
   "execution_count": null,
   "metadata": {
    "slideshow": {
     "slide_type": "subslide"
    }
   },
   "outputs": [],
   "source": [
    "from pathlib import Path \n",
    "from pprint import pprint\n",
    "\n",
    "def list_dir(dir_path):\n",
    "    return [str(item) for item in dir_path.iterdir() if item.is_dir()]\n",
    "\n",
    "pprint(list_dir(Path('.')))"
   ]
  },
  {
   "cell_type": "code",
   "execution_count": null,
   "metadata": {},
   "outputs": [],
   "source": [
    "from pathlib import Path \n",
    "from pprint import pprint\n",
    "\n",
    "def list_dir(dir_path):\n",
    "    dirs = []\n",
    "    for item in dir_path.iterdir():\n",
    "        if item.is_dir() == True:\n",
    "            dirs.append(str(item))\n",
    "    return dirs\n",
    "\n",
    "pprint(list_dir(Path('.')))"
   ]
  },
  {
   "cell_type": "markdown",
   "metadata": {
    "slideshow": {
     "slide_type": "slide"
    }
   },
   "source": [
    "## B. Basic Python"
   ]
  },
  {
   "cell_type": "markdown",
   "metadata": {
    "slideshow": {
     "slide_type": "subslide"
    }
   },
   "source": [
    "### 4."
   ]
  },
  {
   "cell_type": "code",
   "execution_count": null,
   "metadata": {
    "slideshow": {
     "slide_type": "fragment"
    }
   },
   "outputs": [],
   "source": [
    "dirs = list_dir(Path('.'))"
   ]
  },
  {
   "cell_type": "code",
   "execution_count": null,
   "metadata": {
    "slideshow": {
     "slide_type": "fragment"
    }
   },
   "outputs": [],
   "source": [
    "type(dirs)"
   ]
  },
  {
   "cell_type": "code",
   "execution_count": null,
   "metadata": {
    "slideshow": {
     "slide_type": "fragment"
    }
   },
   "outputs": [],
   "source": [
    "len(dirs)"
   ]
  },
  {
   "cell_type": "code",
   "execution_count": null,
   "metadata": {
    "slideshow": {
     "slide_type": "fragment"
    }
   },
   "outputs": [],
   "source": [
    "dirs = list(filter(lambda item: ('19thFic_' in item), dirs))\n",
    "dirs"
   ]
  },
  {
   "cell_type": "code",
   "execution_count": null,
   "metadata": {
    "slideshow": {
     "slide_type": "fragment"
    }
   },
   "outputs": [],
   "source": [
    "dirs = [dir for dirs in dir if item.startswith('19thFic_')]\n",
    "dirs"
   ]
  },
  {
   "cell_type": "code",
   "execution_count": null,
   "metadata": {
    "slideshow": {
     "slide_type": "subslide"
    }
   },
   "outputs": [],
   "source": [
    "help(dir)"
   ]
  },
  {
   "cell_type": "code",
   "execution_count": null,
   "metadata": {
    "slideshow": {
     "slide_type": "subslide"
    }
   },
   "outputs": [],
   "source": [
    "dirs = [item for item in dirs if item.startswith('19thFic_')]\n",
    "dirs"
   ]
  },
  {
   "cell_type": "code",
   "execution_count": null,
   "metadata": {
    "slideshow": {
     "slide_type": "fragment"
    }
   },
   "outputs": [],
   "source": [
    "dirs[1]"
   ]
  },
  {
   "cell_type": "code",
   "execution_count": null,
   "metadata": {
    "slideshow": {
     "slide_type": "fragment"
    }
   },
   "outputs": [],
   "source": [
    "dirs[1][-1]"
   ]
  },
  {
   "cell_type": "code",
   "execution_count": null,
   "metadata": {
    "slideshow": {
     "slide_type": "fragment"
    }
   },
   "outputs": [],
   "source": [
    "dirs[1][-1] = 'x'"
   ]
  },
  {
   "cell_type": "markdown",
   "metadata": {},
   "source": [
    "![img](https://caltmig.kentchang.com/lab/slides/img/python-fundamentals-1/2.png)"
   ]
  },
  {
   "cell_type": "markdown",
   "metadata": {
    "slideshow": {
     "slide_type": "subslide"
    }
   },
   "source": [
    "### 5."
   ]
  },
  {
   "cell_type": "code",
   "execution_count": null,
   "metadata": {
    "slideshow": {
     "slide_type": "fragment"
    }
   },
   "outputs": [],
   "source": [
    "stopwords = ['the', 'he', 'she', 'it']"
   ]
  },
  {
   "cell_type": "markdown",
   "metadata": {
    "slideshow": {
     "slide_type": "subslide"
    }
   },
   "source": [
    "### 6."
   ]
  },
  {
   "cell_type": "code",
   "execution_count": null,
   "metadata": {
    "slideshow": {
     "slide_type": "fragment"
    }
   },
   "outputs": [],
   "source": [
    "happy_prince_tales = ['The Happy Prince', 'The Nightingale and the Rose', \n",
    "                      'The Selfish Giant', 'The Devoted Friend', \n",
    "                      'The Remarkable Rocket']"
   ]
  },
  {
   "cell_type": "code",
   "execution_count": null,
   "metadata": {
    "slideshow": {
     "slide_type": "fragment"
    }
   },
   "outputs": [],
   "source": [
    "for happy_prince_tale in happy_prince_tales:\n",
    "    print(happy_prince_tale)"
   ]
  },
  {
   "cell_type": "code",
   "execution_count": null,
   "metadata": {
    "slideshow": {
     "slide_type": "fragment"
    }
   },
   "outputs": [],
   "source": [
    "print('Oscar Wilde\\'s \\\"The Happy Prince and Other Tales\\\" includes the following stories: ', end = \"\")\n",
    "for happy_prince_tale in happy_prince_tales:\n",
    "    print('\\\"' + happy_prince_tale + '\\\", ', end = \"\")"
   ]
  },
  {
   "cell_type": "code",
   "execution_count": null,
   "metadata": {
    "slideshow": {
     "slide_type": "fragment"
    }
   },
   "outputs": [],
   "source": [
    "print('Oscar Wilde\\'s \\\"The Happy Prince and Other Tales\\\" includes the following stories: \\\"' \n",
    "      + '\\\", \\\"'.join(happy_prince_tales) + '\".')"
   ]
  },
  {
   "cell_type": "markdown",
   "metadata": {
    "slideshow": {
     "slide_type": "subslide"
    }
   },
   "source": [
    "### 7. "
   ]
  },
  {
   "cell_type": "code",
   "execution_count": null,
   "metadata": {
    "slideshow": {
     "slide_type": "fragment"
    }
   },
   "outputs": [],
   "source": [
    "en2de_dict = {'day': 'Tag'}\n",
    "de = en2de_dict['day']\n",
    "print(de)"
   ]
  },
  {
   "cell_type": "code",
   "execution_count": null,
   "metadata": {
    "slideshow": {
     "slide_type": "subslide"
    }
   },
   "outputs": [],
   "source": [
    "en2de_dict['Good'] = 'Gute'\n",
    "en2de_dict.update({'I': 'ich'})\n",
    "en2de_dict.update({'“': '„', \n",
    "                   '”': '“'})\n",
    "print(en2de_dict)"
   ]
  },
  {
   "cell_type": "code",
   "execution_count": null,
   "metadata": {
    "slideshow": {
     "slide_type": "subslide"
    }
   },
   "outputs": [],
   "source": [
    "if en2de_dict.get('I'):\n",
    "    print('The word \\\"I\\\" is in the dictionary')\n",
    "else:\n",
    "    print('The word \\\"I\\\" is not in the dictionary')"
   ]
  },
  {
   "cell_type": "code",
   "execution_count": null,
   "metadata": {
    "slideshow": {
     "slide_type": "fragment"
    }
   },
   "outputs": [],
   "source": [
    "if en2de_dict.get('Oscar'):\n",
    "    print('The word \\\"Oscar\\\" is in the dictionary')\n",
    "else:\n",
    "    print('The word \\\"Oscar\\\" is not in the dictionary')"
   ]
  },
  {
   "cell_type": "code",
   "execution_count": null,
   "metadata": {
    "slideshow": {
     "slide_type": "fragment"
    }
   },
   "outputs": [],
   "source": [
    "en2de_dict['says'] = 'sagt'\n",
    "en2de_dict['night'] = 'Nacht'\n",
    "print(en2de_dict)"
   ]
  },
  {
   "cell_type": "code",
   "execution_count": null,
   "metadata": {
    "slideshow": {
     "slide_type": "subslide"
    }
   },
   "outputs": [],
   "source": [
    "for key, value in en2de_dict.items():\n",
    "    print('{0} is {1} in German.'.format(key, value))"
   ]
  },
  {
   "cell_type": "code",
   "execution_count": null,
   "metadata": {
    "slideshow": {
     "slide_type": "subslide"
    }
   },
   "outputs": [],
   "source": [
    "en = 'Kent says: “Good night!”'\n",
    "\n",
    "de = en\n",
    "for en_word, de_word in en2de_dict.items():\n",
    "    de = de.replace(en_word, de_word)\n",
    "print(de)"
   ]
  },
  {
   "cell_type": "markdown",
   "metadata": {},
   "source": [
    "## C."
   ]
  },
  {
   "cell_type": "markdown",
   "metadata": {},
   "source": [
    "### 8. "
   ]
  },
  {
   "cell_type": "code",
   "execution_count": 2,
   "metadata": {},
   "outputs": [],
   "source": [
    "data = ['CMU is in PA', 'CMU has nice buildings', 'It also has hideous ones']"
   ]
  },
  {
   "cell_type": "code",
   "execution_count": null,
   "metadata": {},
   "outputs": [],
   "source": [
    "def is_in(data, *words):\n",
    "    data = ' '.join(data)\n",
    "    return_vals = []\n",
    "    for word in words:\n",
    "        if word in data:\n",
    "            return_vals.append(True)\n",
    "        else:\n",
    "            return_vals.append(True)\n",
    "    return str(return_vals)[1:-1]\n",
    "\n",
    "is_in(data, 'cmu')"
   ]
  },
  {
   "cell_type": "code",
   "execution_count": 3,
   "metadata": {},
   "outputs": [
    {
     "name": "stdout",
     "output_type": "stream",
     "text": [
      "In line 1, 1 match(es) found: in \n",
      "In line 2, 1 match(es) found: in \n"
     ]
    }
   ],
   "source": [
    "def is_in(lines, *words):\n",
    "    global taboo_words\n",
    "    messages = []\n",
    "\n",
    "    for line_no, line in enumerate(lines):\n",
    "        line = line.lower()\n",
    "        found_words = []\n",
    "        for word in words:\n",
    "            if word in taboo_words:\n",
    "                return \"Shut up!\"\n",
    "            else: \n",
    "                if word in line:\n",
    "                    found_words.append(word)\n",
    "                # continue\n",
    "        if found_words:\n",
    "            found_words = list(set(found_words))\n",
    "            found_words_string = ', '.join(found_words) if len(found_words) > 1 else str(found_words[0])\n",
    "            messages.append(\"In line {}, {} match(es) found: {} \".format(line_no+1, len(found_words), found_words_string))\n",
    "        else:\n",
    "            continue\n",
    "    return '\\n'.join(messages) if len(messages) > 0 else \"Word(s) not found in data.\"\n",
    "\n",
    "taboo_words = ('Trump')\n",
    "print(is_in(data, 'in'))"
   ]
  },
  {
   "cell_type": "markdown",
   "metadata": {
    "slideshow": {
     "slide_type": "subslide"
    }
   },
   "source": [
    "### 9. "
   ]
  },
  {
   "cell_type": "code",
   "execution_count": null,
   "metadata": {
    "slideshow": {
     "slide_type": "fragment"
    }
   },
   "outputs": [],
   "source": [
    "PIs = ['Derrida', 'Foucault', 'Deleuze']\n",
    "born = [1930, 1926, 1925]\n",
    "\n",
    "for i in range(len(PIs)):\n",
    "    print('PI no. ' + str(i) + ': ' + PIs[i] + ' (born: ' + str(born[i]) + ')')"
   ]
  },
  {
   "cell_type": "code",
   "execution_count": null,
   "metadata": {
    "slideshow": {
     "slide_type": "subslide"
    }
   },
   "outputs": [],
   "source": [
    "for PI, born_year in zip(PIs, born):\n",
    "    print('PI no. {} (born: {})'.format(PI, born_year))"
   ]
  },
  {
   "cell_type": "code",
   "execution_count": null,
   "metadata": {
    "slideshow": {
     "slide_type": "subslide"
    }
   },
   "outputs": [],
   "source": [
    "dict(zip(PIs, born))"
   ]
  },
  {
   "cell_type": "markdown",
   "metadata": {
    "slideshow": {
     "slide_type": "subslide"
    }
   },
   "source": [
    "### 10."
   ]
  },
  {
   "cell_type": "code",
   "execution_count": null,
   "metadata": {
    "slideshow": {
     "slide_type": "fragment"
    }
   },
   "outputs": [],
   "source": [
    "info = \"\"\"\n",
    "CMU: (412) 268-2000. LA.\n",
    "Stanford: (650) 723-2300. CA.\n",
    "Cornell: (607) 254-4636. NY.\n",
    "\"\"\""
   ]
  },
  {
   "cell_type": "code",
   "execution_count": null,
   "metadata": {
    "slideshow": {
     "slide_type": "fragment"
    }
   },
   "outputs": [],
   "source": [
    "corrected_info = info.replace(\"LA\", \"PA\")\n",
    "corrected_info"
   ]
  },
  {
   "cell_type": "code",
   "execution_count": null,
   "metadata": {
    "slideshow": {
     "slide_type": "subslide"
    }
   },
   "outputs": [],
   "source": [
    "import re\n",
    "schools = re.finditer('^(.*?):.*$', corrected_info, re.MULTILINE)\n",
    "print(', '.join([school.group(1) for school in schools]))"
   ]
  },
  {
   "cell_type": "markdown",
   "metadata": {
    "slideshow": {
     "slide_type": "fragment"
    }
   },
   "source": [
    "[RegEx101.com](https://regex101.com/)"
   ]
  },
  {
   "cell_type": "code",
   "execution_count": null,
   "metadata": {
    "slideshow": {
     "slide_type": "subslide"
    }
   },
   "outputs": [],
   "source": [
    "pattern = r\"^(.+?):\\s(\\([0-9]{3}\\)\\s[0-9]{3}-[0-9]{4})\\.\\s([A-Z]{2}).$\"\n",
    "new_corrected_info = re.sub(pattern, r\"\\1,\\2,\\3\", corrected_info, flags=re.MULTILINE)\n",
    "new_corrected_info"
   ]
  },
  {
   "cell_type": "code",
   "execution_count": null,
   "metadata": {
    "slideshow": {
     "slide_type": "subslide"
    }
   },
   "outputs": [],
   "source": [
    "new_corrected_info = 'school,number,location' + new_corrected_info\n",
    "new_corrected_info"
   ]
  },
  {
   "cell_type": "code",
   "execution_count": null,
   "metadata": {
    "slideshow": {
     "slide_type": "subslide"
    }
   },
   "outputs": [],
   "source": [
    "with open('schools.csv', 'w+') as o:\n",
    "    o.write(new_corrected_info)"
   ]
  },
  {
   "cell_type": "code",
   "execution_count": null,
   "metadata": {
    "slideshow": {
     "slide_type": "fragment"
    }
   },
   "outputs": [],
   "source": [
    "! cat schools.csv"
   ]
  },
  {
   "cell_type": "code",
   "execution_count": null,
   "metadata": {
    "slideshow": {
     "slide_type": "subslide"
    }
   },
   "outputs": [],
   "source": [
    "import pandas as pd\n",
    "\n",
    "schools_df = pd.read_csv('schools.csv')"
   ]
  },
  {
   "cell_type": "code",
   "execution_count": null,
   "metadata": {
    "slideshow": {
     "slide_type": "fragment"
    }
   },
   "outputs": [],
   "source": [
    "schools_df"
   ]
  },
  {
   "cell_type": "markdown",
   "metadata": {
    "slideshow": {
     "slide_type": "subslide"
    }
   },
   "source": [
    "### 11. "
   ]
  },
  {
   "cell_type": "code",
   "execution_count": null,
   "metadata": {
    "slideshow": {
     "slide_type": "fragment"
    }
   },
   "outputs": [],
   "source": [
    "import urllib.request\n",
    "\n",
    "url = 'http://lab.kentkchang.com/data/de_profundis.txt'\n",
    "req = urllib.request.Request(url, headers = {'User-Agent': 'Mozilla/5.0'})\n",
    "raw = urllib.request.urlopen(req).read().decode('utf8')\n"
   ]
  },
  {
   "cell_type": "code",
   "execution_count": null,
   "metadata": {
    "slideshow": {
     "slide_type": "subslide"
    }
   },
   "outputs": [],
   "source": [
    "from nltk.corpus import stopwords\n",
    "import re\n",
    "\n",
    "punctuation = '!\"#$%&\\'()*+,-./:;<=>?@[\\\\]^_`{|}~‘’'\n",
    "raw = \"\".join([char for char in raw if char not in punctuation])\n",
    "pattern = re.compile(r'\\b(' + r'|'.join(stopwords.words('english')) \n",
    "                     + r')\\b\\s*')\n",
    "raw = pattern.sub('', raw)\n",
    "raw"
   ]
  },
  {
   "cell_type": "code",
   "execution_count": null,
   "metadata": {
    "slideshow": {
     "slide_type": "subslide"
    }
   },
   "outputs": [],
   "source": [
    "tokens = raw.split()\n",
    "tokens"
   ]
  },
  {
   "cell_type": "code",
   "execution_count": null,
   "metadata": {
    "slideshow": {
     "slide_type": "subslide"
    }
   },
   "outputs": [],
   "source": [
    "import nltk\n",
    "\n",
    "tokens_nltk = nltk.word_tokenize(raw)\n",
    "tokens_nltk"
   ]
  },
  {
   "cell_type": "code",
   "execution_count": null,
   "metadata": {
    "slideshow": {
     "slide_type": "subslide"
    }
   },
   "outputs": [],
   "source": [
    "for token1, token2 in zip(tokens, tokens_nltk):\n",
    "    if token1 != token2:\n",
    "        print(token1, token2)"
   ]
  },
  {
   "cell_type": "code",
   "execution_count": null,
   "metadata": {
    "slideshow": {
     "slide_type": "subslide"
    }
   },
   "outputs": [],
   "source": [
    "from collections import Counter\n",
    "counts = Counter(tokens_nltk)\n",
    "print(counts)"
   ]
  },
  {
   "cell_type": "markdown",
   "metadata": {
    "slideshow": {
     "slide_type": "subslide"
    }
   },
   "source": [
    "### 12."
   ]
  },
  {
   "cell_type": "code",
   "execution_count": null,
   "metadata": {
    "slideshow": {
     "slide_type": "fragment"
    }
   },
   "outputs": [],
   "source": [
    "with open('part1_ref/eliot.txt', 'r') as o:\n",
    "    print(o.read())"
   ]
  },
  {
   "cell_type": "code",
   "execution_count": null,
   "metadata": {
    "slideshow": {
     "slide_type": "subslide"
    }
   },
   "outputs": [],
   "source": [
    "with open('part1_ref/eliot.txt', 'r') as o:\n",
    "    next(o)\n",
    "    print(o.read())"
   ]
  },
  {
   "cell_type": "markdown",
   "metadata": {
    "slideshow": {
     "slide_type": "subslide"
    }
   },
   "source": [
    "### 13."
   ]
  },
  {
   "cell_type": "code",
   "execution_count": null,
   "metadata": {
    "slideshow": {
     "slide_type": "fragment"
    }
   },
   "outputs": [],
   "source": [
    "with open('part1_ref/darwin_chap1.txt', 'r') as f:\n",
    "    print(f.read())\n",
    "f"
   ]
  },
  {
   "cell_type": "code",
   "execution_count": null,
   "metadata": {
    "slideshow": {
     "slide_type": "subslide"
    }
   },
   "outputs": [],
   "source": [
    "def gen_lines_needed(f):\n",
    "    global header\n",
    "    for line in f:\n",
    "        line = line.strip()\n",
    "        if header in line:\n",
    "            continue\n",
    "        if not line:\n",
    "            continue\n",
    "        yield line\n",
    "\n",
    "header = 'The Origin of Species. Charles Darwin. Chapter'\n",
    "\n",
    "chapter_tokens = []\n",
    "with open('part1_ref/darwin_chap1.txt', 'r') as f:\n",
    "    for line in gen_lines_needed(f):\n",
    "        print(line)\n",
    "        # tokens = tokenize(line)\n",
    "    # chapter_tokens.append(tokens)"
   ]
  },
  {
   "cell_type": "markdown",
   "metadata": {
    "slideshow": {
     "slide_type": "subslide"
    }
   },
   "source": [
    "### 14. "
   ]
  },
  {
   "cell_type": "code",
   "execution_count": null,
   "metadata": {
    "slideshow": {
     "slide_type": "fragment"
    }
   },
   "outputs": [],
   "source": [
    "Techs = ['MIT', 'Caltech']\n",
    "Ivys = ['Harvard', 'Princeton', 'Yale']\n",
    "Univs = [Techs, Ivys]\n",
    "Univs1 = [['MIT', 'Caltech'], ['Harvard', 'Princeton', 'Yale']]"
   ]
  },
  {
   "cell_type": "code",
   "execution_count": null,
   "metadata": {
    "slideshow": {
     "slide_type": "fragment"
    }
   },
   "outputs": [],
   "source": [
    "print(Univs == Univs1)"
   ]
  },
  {
   "cell_type": "code",
   "execution_count": null,
   "metadata": {
    "slideshow": {
     "slide_type": "fragment"
    }
   },
   "outputs": [],
   "source": [
    "print(id(Univs) == id(Univs1))"
   ]
  },
  {
   "cell_type": "markdown",
   "metadata": {
    "slideshow": {
     "slide_type": "subslide"
    }
   },
   "source": [
    "![img](https://caltmig.kentchang.com/lab/slides/img/python-fundamentals-1/3.png)"
   ]
  },
  {
   "cell_type": "markdown",
   "metadata": {
    "slideshow": {
     "slide_type": "subslide"
    }
   },
   "source": [
    "![img](https://caltmig.kentchang.com/lab/slides/img/python-fundamentals-1/4.png)"
   ]
  },
  {
   "cell_type": "markdown",
   "metadata": {
    "slideshow": {
     "slide_type": "subslide"
    }
   },
   "source": [
    "### 15."
   ]
  },
  {
   "cell_type": "code",
   "execution_count": null,
   "metadata": {
    "slideshow": {
     "slide_type": "subslide"
    }
   },
   "outputs": [],
   "source": [
    "import urllib.request\n",
    "import json\n",
    "from pprint import pprint\n",
    "\n",
    "\n",
    "URL = 'https://en.wikipedia.org/api/rest_v1/page/summary/Carnegie_Mellon_University'\n",
    "\n",
    "with urllib.request.urlopen(URL) as f:\n",
    "    data = json.loads(f.read().decode('utf-8'))\n",
    "  \n",
    "print(data['extract'])"
   ]
  }
 ],
 "metadata": {
  "celltoolbar": "Slideshow",
  "kernelspec": {
   "display_name": "Python 3",
   "language": "python",
   "name": "python3"
  },
  "language_info": {
   "codemirror_mode": {
    "name": "ipython",
    "version": 3
   },
   "file_extension": ".py",
   "mimetype": "text/x-python",
   "name": "python",
   "nbconvert_exporter": "python",
   "pygments_lexer": "ipython3",
   "version": "3.7.0"
  }
 },
 "nbformat": 4,
 "nbformat_minor": 2
}
