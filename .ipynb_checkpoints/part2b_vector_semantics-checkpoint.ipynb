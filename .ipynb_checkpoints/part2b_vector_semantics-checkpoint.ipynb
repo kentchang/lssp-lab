{
 "cells": [
  {
   "cell_type": "code",
   "execution_count": 1,
   "metadata": {},
   "outputs": [
    {
     "name": "stdout",
     "output_type": "stream",
     "text": [
      "Script path: /Users/kentchang/code/kentkchang.com/lssp-lab\n",
      "Output path: /Users/kentchang/code/kentkchang.com/lssp-lab/part2b_output\n",
      "Input path: /Users/kentchang/code/kentkchang.com/lssp-lab/part2b_input\n"
     ]
    }
   ],
   "source": [
    "import pathlib\n",
    "\n",
    "SCRIPT_PATH = pathlib.Path.cwd()\n",
    "\n",
    "OUTPUT_PATH = SCRIPT_PATH.joinpath('part2b_output')\n",
    "OUTPUT_PATH.mkdir(parents=True, exist_ok=True)\n",
    "\n",
    "INPUT_PATH = SCRIPT_PATH.joinpath('part2b_input')\n",
    "INPUT_PATH.mkdir(parents=True, exist_ok=True)\n",
    "\n",
    "print('Script path: {}'.format(str(SCRIPT_PATH)))\n",
    "print('Output path: {}'.format(str(OUTPUT_PATH)))\n",
    "print('Input path: {}'.format(str(INPUT_PATH)))"
   ]
  },
  {
   "cell_type": "code",
   "execution_count": 2,
   "metadata": {},
   "outputs": [
    {
     "data": {
      "text/plain": [
       "['/Users/kentchang/code/kentkchang.com/lssp-lab/part2b_input/bnc-baby-aca-xml/A6U.xml',\n",
       " '/Users/kentchang/code/kentkchang.com/lssp-lab/part2b_input/bnc-baby-aca-xml/ACJ.xml',\n",
       " '/Users/kentchang/code/kentkchang.com/lssp-lab/part2b_input/bnc-baby-aca-xml/ALP.xml',\n",
       " '/Users/kentchang/code/kentkchang.com/lssp-lab/part2b_input/bnc-baby-aca-xml/AMM.xml',\n",
       " '/Users/kentchang/code/kentkchang.com/lssp-lab/part2b_input/bnc-baby-aca-xml/AS6.xml',\n",
       " '/Users/kentchang/code/kentkchang.com/lssp-lab/part2b_input/bnc-baby-aca-xml/B17.xml',\n",
       " '/Users/kentchang/code/kentkchang.com/lssp-lab/part2b_input/bnc-baby-aca-xml/B1G.xml',\n",
       " '/Users/kentchang/code/kentkchang.com/lssp-lab/part2b_input/bnc-baby-aca-xml/B2K.xml',\n",
       " '/Users/kentchang/code/kentkchang.com/lssp-lab/part2b_input/bnc-baby-aca-xml/CLP.xml',\n",
       " '/Users/kentchang/code/kentkchang.com/lssp-lab/part2b_input/bnc-baby-aca-xml/CLW.xml',\n",
       " '/Users/kentchang/code/kentkchang.com/lssp-lab/part2b_input/bnc-baby-aca-xml/CMA.xml',\n",
       " '/Users/kentchang/code/kentkchang.com/lssp-lab/part2b_input/bnc-baby-aca-xml/CRS.xml',\n",
       " '/Users/kentchang/code/kentkchang.com/lssp-lab/part2b_input/bnc-baby-aca-xml/CTY.xml',\n",
       " '/Users/kentchang/code/kentkchang.com/lssp-lab/part2b_input/bnc-baby-aca-xml/EA7.xml',\n",
       " '/Users/kentchang/code/kentkchang.com/lssp-lab/part2b_input/bnc-baby-aca-xml/ECV.xml',\n",
       " '/Users/kentchang/code/kentkchang.com/lssp-lab/part2b_input/bnc-baby-aca-xml/EW1.xml',\n",
       " '/Users/kentchang/code/kentkchang.com/lssp-lab/part2b_input/bnc-baby-aca-xml/EWW.xml',\n",
       " '/Users/kentchang/code/kentkchang.com/lssp-lab/part2b_input/bnc-baby-aca-xml/F98.xml',\n",
       " '/Users/kentchang/code/kentkchang.com/lssp-lab/part2b_input/bnc-baby-aca-xml/F9V.xml',\n",
       " '/Users/kentchang/code/kentkchang.com/lssp-lab/part2b_input/bnc-baby-aca-xml/FC1.xml',\n",
       " '/Users/kentchang/code/kentkchang.com/lssp-lab/part2b_input/bnc-baby-aca-xml/FEF.xml',\n",
       " '/Users/kentchang/code/kentkchang.com/lssp-lab/part2b_input/bnc-baby-aca-xml/FPG.xml',\n",
       " '/Users/kentchang/code/kentkchang.com/lssp-lab/part2b_input/bnc-baby-aca-xml/FSS.xml',\n",
       " '/Users/kentchang/code/kentkchang.com/lssp-lab/part2b_input/bnc-baby-aca-xml/FT1.xml',\n",
       " '/Users/kentchang/code/kentkchang.com/lssp-lab/part2b_input/bnc-baby-aca-xml/HRG.xml',\n",
       " '/Users/kentchang/code/kentkchang.com/lssp-lab/part2b_input/bnc-baby-aca-xml/HWV.xml',\n",
       " '/Users/kentchang/code/kentkchang.com/lssp-lab/part2b_input/bnc-baby-aca-xml/HXH.xml',\n",
       " '/Users/kentchang/code/kentkchang.com/lssp-lab/part2b_input/bnc-baby-aca-xml/J18.xml',\n",
       " '/Users/kentchang/code/kentkchang.com/lssp-lab/part2b_input/bnc-baby-aca-xml/J57.xml',\n",
       " '/Users/kentchang/code/kentkchang.com/lssp-lab/part2b_input/bnc-baby-aca-xml/J7G.xml']"
      ]
     },
     "execution_count": 2,
     "metadata": {},
     "output_type": "execute_result"
    }
   ],
   "source": [
    "# input_text_filenames = [str(file)\n",
    "#                         for file in INPUT_PATH.joinpath('bnc-baby-aca-xml').iterdir()\n",
    "#                         if file.suffix == '.xml']\n",
    "    \n",
    "# input_text_filenames\n",
    "\n",
    "input_text_filenames = [str(input_text_filename)\n",
    "                        for input_text_filename \n",
    "                        in INPUT_PATH.joinpath('bnc-baby-aca-xml').glob('**/*.xml')]\n",
    "\n",
    "input_text_filenames"
   ]
  },
  {
   "cell_type": "code",
   "execution_count": null,
   "metadata": {},
   "outputs": [],
   "source": [
    "from lxml import etree\n",
    "from pprint import pprint\n",
    "import re\n",
    "\n",
    "sentences = []\n",
    "\n",
    "for input_text_filename in input_text_filenames:\n",
    "    tree = etree.parse(input_text_filename)\n",
    "    root = tree.getroot()\n",
    "\n",
    "    for paragraphs in root.findall(\".//p\"):\n",
    "        for paragraph in paragraphs:\n",
    "            sentence = []\n",
    "            for token in paragraph.findall('.//w'):\n",
    "                if token.text:\n",
    "                    token = re.sub(r\"[0-9]+\", \" \", token.text)\n",
    "                    token = token.lower()\n",
    "                    token = token.strip()\n",
    "                    sentence.append(token)\n",
    "            sentences.append(sentence)"
   ]
  },
  {
   "cell_type": "code",
   "execution_count": null,
   "metadata": {},
   "outputs": [],
   "source": [
    "import gensim\n",
    "\n",
    "model = gensim.models.FastText(sentences=sentences, \n",
    "                               size=100, window=5, min_count=5, sg=0, iter=10)"
   ]
  },
  {
   "cell_type": "code",
   "execution_count": null,
   "metadata": {},
   "outputs": [],
   "source": [
    "model.wv.most_similar(\"cognition\")"
   ]
  },
  {
   "cell_type": "code",
   "execution_count": null,
   "metadata": {},
   "outputs": [],
   "source": [
    "word = \"poetry\"\n",
    "word2 = \"beauty\"\n",
    "model.wv.most_similar(positive=[word, word2])"
   ]
  },
  {
   "cell_type": "code",
   "execution_count": null,
   "metadata": {},
   "outputs": [],
   "source": [
    "model.wv.most_similar(positive=[word], negative=[word2])"
   ]
  }
 ],
 "metadata": {
  "kernelspec": {
   "display_name": "Python 3",
   "language": "python",
   "name": "python3"
  },
  "language_info": {
   "codemirror_mode": {
    "name": "ipython",
    "version": 3
   },
   "file_extension": ".py",
   "mimetype": "text/x-python",
   "name": "python",
   "nbconvert_exporter": "python",
   "pygments_lexer": "ipython3",
   "version": "3.7.0"
  }
 },
 "nbformat": 4,
 "nbformat_minor": 2
}
