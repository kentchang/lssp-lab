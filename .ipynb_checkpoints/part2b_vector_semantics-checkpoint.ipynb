{
 "cells": [
  {
   "cell_type": "code",
   "execution_count": null,
   "metadata": {},
   "outputs": [],
   "source": [
    "import pathlib\n",
    "\n",
    "SCRIPT_PATH = pathlib.Path.cwd()\n",
    "\n",
    "OUTPUT_PATH = SCRIPT_PATH.joinpath('part4_output')\n",
    "OUTPUT_PATH.mkdir(parents=True, exist_ok=True)\n",
    "\n",
    "INPUT_PATH = SCRIPT_PATH.joinpath('part4_input')\n",
    "INPUT_PATH.mkdir(parents=True, exist_ok=True)\n",
    "\n",
    "print('Script path: {}'.format(str(SCRIPT_PATH)))\n",
    "print('Output path: {}'.format(str(OUTPUT_PATH)))\n",
    "print('Input path: {}'.format(str(INPUT_PATH)))"
   ]
  },
  {
   "cell_type": "code",
   "execution_count": null,
   "metadata": {},
   "outputs": [],
   "source": [
    "# input_text_filenames = [str(file)\n",
    "#                         for file in INPUT_PATH.joinpath('bnc-baby-aca-xml').iterdir()\n",
    "#                         if file.suffix == '.xml']\n",
    "    \n",
    "# input_text_filenames\n",
    "\n",
    "input_text_filenames = [str(input_text_filename)\n",
    "                        for input_text_filename \n",
    "                        in INPUT_PATH.joinpath('bnc-baby-aca-xml').glob('**/*.xml')]\n",
    "\n",
    "input_text_filenames"
   ]
  },
  {
   "cell_type": "code",
   "execution_count": null,
   "metadata": {},
   "outputs": [],
   "source": [
    "from lxml import etree\n",
    "from pprint import pprint\n",
    "import re\n",
    "\n",
    "sentences = []\n",
    "\n",
    "for input_text_filename in input_text_filenames:\n",
    "    tree = etree.parse(input_text_filename)\n",
    "    root = tree.getroot()\n",
    "\n",
    "    for paragraphs in root.findall(\".//p\"):\n",
    "        for paragraph in paragraphs:\n",
    "            sentence = []\n",
    "            for token in paragraph.findall('.//w'):\n",
    "                if token.text:\n",
    "                    token = re.sub(r\"[0-9]+\", \" \", token.text)\n",
    "                    token = token.lower()\n",
    "                    token = token.strip()\n",
    "                    sentence.append(token)\n",
    "            sentences.append(sentence)"
   ]
  },
  {
   "cell_type": "code",
   "execution_count": null,
   "metadata": {},
   "outputs": [],
   "source": []
  },
  {
   "cell_type": "code",
   "execution_count": null,
   "metadata": {},
   "outputs": [],
   "source": [
    "import gensim\n",
    "\n",
    "model = gensim.models.FastText(sentences=sentences, \n",
    "                               size=100, window=5, min_count=5, sg=0, iter=10)"
   ]
  },
  {
   "cell_type": "code",
   "execution_count": null,
   "metadata": {},
   "outputs": [],
   "source": [
    "model.wv.most_similar(\"homosexual\")"
   ]
  },
  {
   "cell_type": "code",
   "execution_count": null,
   "metadata": {},
   "outputs": [],
   "source": [
    "word = \"poetry\"\n",
    "word2 = \"beauty\"\n",
    "model.wv.most_similar(positive=[word, word2])"
   ]
  },
  {
   "cell_type": "code",
   "execution_count": null,
   "metadata": {},
   "outputs": [],
   "source": [
    "model.wv.most_similar(positive=[word], negative=[word2])"
   ]
  }
 ],
 "metadata": {
  "kernelspec": {
   "display_name": "Python 3",
   "language": "python",
   "name": "python3"
  },
  "language_info": {
   "codemirror_mode": {
    "name": "ipython",
    "version": 3
   },
   "file_extension": ".py",
   "mimetype": "text/x-python",
   "name": "python",
   "nbconvert_exporter": "python",
   "pygments_lexer": "ipython3",
   "version": "3.7.0"
  }
 },
 "nbformat": 4,
 "nbformat_minor": 2
}
